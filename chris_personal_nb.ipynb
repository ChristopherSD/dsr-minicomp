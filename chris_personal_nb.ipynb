{
 "cells": [
  {
   "cell_type": "code",
   "execution_count": 1,
   "metadata": {},
   "outputs": [],
   "source": [
    "import pandas as pd\n",
    "import numpy as np\n",
    "import data_transformation as dt\n",
    "import feature_engineering as fe\n",
    "import pickle\n",
    "from testing.predictiveAccuracy import metric, custom_scorer_metric\n",
    "from sklearn.ensemble import RandomForestRegressor\n",
    "from sklearn import preprocessing \n",
    "from sklearn.model_selection import train_test_split, TimeSeriesSplit, KFold, GridSearchCV\n",
    "from sklearn.metrics import make_scorer\n",
    "from sklearn import linear_model"
   ]
  },
  {
   "cell_type": "code",
   "execution_count": 2,
   "metadata": {},
   "outputs": [],
   "source": [
    "load = True"
   ]
  },
  {
   "cell_type": "code",
   "execution_count": 3,
   "metadata": {},
   "outputs": [
    {
     "name": "stderr",
     "output_type": "stream",
     "text": [
      "/home/chris/anaconda3/envs/minicomp/lib/python3.6/site-packages/IPython/core/interactiveshell.py:3263: DtypeWarning: Columns (7) have mixed types.Specify dtype option on import or set low_memory=False.\n",
      "  if (await self.run_code(code, result,  async_=asy)):\n"
     ]
    }
   ],
   "source": [
    "raw_data = dt.get_all_train_data()"
   ]
  },
  {
   "cell_type": "code",
   "execution_count": 4,
   "metadata": {},
   "outputs": [],
   "source": [
    "sorted_data = raw_data.sort_values(by=['Date'])"
   ]
  },
  {
   "cell_type": "code",
   "execution_count": 5,
   "metadata": {},
   "outputs": [],
   "source": [
    "target_col = 'Sales'"
   ]
  },
  {
   "cell_type": "code",
   "execution_count": 10,
   "metadata": {},
   "outputs": [],
   "source": [
    "# make time series split for cross validation\n",
    "\n",
    "kf = TimeSeriesSplit(n_splits=5)\n",
    "X_train_folds = []\n",
    "X_test_folds = []\n",
    "y_train_folds = []\n",
    "y_test_folds = []\n",
    "for train_index, test_index in kf.split(sorted_data):\n",
    "    \n",
    "    train_data = raw_data.iloc[train_index, :]\n",
    "    y_train_folds.append(train_data)\n",
    "    X_train_folds.append(train_data)\n",
    "    \n",
    "    test_data = raw_data.iloc[test_index, :]\n",
    "    y_test_folds.append(test_data)\n",
    "    X_test_folds.append(test_data)"
   ]
  },
  {
   "cell_type": "code",
   "execution_count": null,
   "metadata": {},
   "outputs": [],
   "source": [
    "# apply imputing to each set\n",
    "X_train_folds_imp = []\n",
    "X_test_folds_imp = []\n",
    "y_train_folds_imp = []\n",
    "y_test_folds_imp = []\n",
    "\n",
    "for fold in X_train_folds:\n",
    "    X_train_folds_imp.append(dt.create_basetable(fold))\n",
    "for fold in X_test_folds:\n",
    "    X_test_folds_imp.append(dt.create_basetable(fold))\n",
    "for fold in y_train_folds:\n",
    "    y_train_folds_imp.append(dt.create_basetable(fold))\n",
    "for fold in y_test_folds:\n",
    "    y_test_folds_imp.append(dt.create_basetable(fold))"
   ]
  },
  {
   "cell_type": "code",
   "execution_count": 6,
   "metadata": {},
   "outputs": [],
   "source": [
    "split_clean_data_path = './data/chris_split_clean_data_list.pkl'"
   ]
  },
  {
   "cell_type": "code",
   "execution_count": 7,
   "metadata": {},
   "outputs": [],
   "source": [
    "if not load:\n",
    "    with open(split_clean_data_path, 'wb') as f:\n",
    "        pickle.dump([X_train_folds_imp, X_test_folds_imp, y_train_folds_imp, y_test_folds_imp], f)"
   ]
  },
  {
   "cell_type": "code",
   "execution_count": 8,
   "metadata": {},
   "outputs": [],
   "source": [
    "if load:\n",
    "    saved_folds = pickle.load(open(split_clean_data_path, \"rb\" ))\n",
    "    X_train_folds_imp = saved_folds[0]\n",
    "    X_test_folds_imp = saved_folds[1]\n",
    "    y_train_folds_imp = saved_folds[2]\n",
    "    y_test_folds_imp = saved_folds[3]"
   ]
  },
  {
   "cell_type": "code",
   "execution_count": null,
   "metadata": {},
   "outputs": [],
   "source": []
  },
  {
   "cell_type": "code",
   "execution_count": 11,
   "metadata": {},
   "outputs": [],
   "source": [
    "# grid search on linear regression\n",
    "model = linear_model.LinearRegression()\n",
    "params = {\n",
    "    'fit_intercept': [True, False],\n",
    "    'normalize': [True, False]\n",
    "}\n",
    "grid = GridSearchCV(estimator=model, param_grid=params, scoring=make_scorer(custom_scorer_metric, greater_is_better=False), n_jobs=3, cv=kf.split(sorted_data), verbose=True)"
   ]
  },
  {
   "cell_type": "code",
   "execution_count": null,
   "metadata": {},
   "outputs": [],
   "source": [
    "# fold sizes\n",
    "for folds in [X_train_folds_imp, X_test_folds_imp, y_train_folds_imp, y_test_folds_imp]:\n",
    "    for fold in folds:\n",
    "        print(fold.shape)\n",
    "        \n",
    "print(len(X_train_folds_imp[-1]) + len(X_test_folds_imp[-1]))    \n",
    "sorted_data.shape"
   ]
  },
  {
   "cell_type": "code",
   "execution_count": 12,
   "metadata": {},
   "outputs": [],
   "source": [
    "# restack imputed folds for the gridsearch\n",
    "restacked_X_data = X_train_folds_imp[-1].append(X_test_folds_imp[-1])\n",
    "restacked_y_data = y_train_folds_imp[-1].append(y_test_folds_imp[-1])\n",
    "\n",
    "# pd.get_dummies(restacked_X_data).dtypes"
   ]
  },
  {
   "cell_type": "code",
   "execution_count": null,
   "metadata": {},
   "outputs": [
    {
     "name": "stdout",
     "output_type": "stream",
     "text": [
      "Fitting 5 folds for each of 4 candidates, totalling 20 fits\n"
     ]
    },
    {
     "name": "stderr",
     "output_type": "stream",
     "text": [
      "[Parallel(n_jobs=3)]: Using backend LokyBackend with 3 concurrent workers.\n"
     ]
    }
   ],
   "source": [
    "grid.fit(\n",
    "    restacked_X_data.drop(['Date', 'Sales'], axis=1).to_numpy(),\n",
    "    restacked_y_data['Sales'].to_numpy()\n",
    ")"
   ]
  },
  {
   "cell_type": "code",
   "execution_count": null,
   "metadata": {},
   "outputs": [],
   "source": [
    "regr = RandomForestRegressor(max_depth=2, random_state=0)\n",
    "regr.fit(X_train_no_date, y_train)"
   ]
  },
  {
   "cell_type": "code",
   "execution_count": null,
   "metadata": {},
   "outputs": [],
   "source": [
    "preds = regr.predict(X_test_no_date)"
   ]
  },
  {
   "cell_type": "code",
   "execution_count": null,
   "metadata": {},
   "outputs": [],
   "source": [
    "# random forest prediction\n",
    "metric(preds, y_test.to_numpy())"
   ]
  },
  {
   "cell_type": "code",
   "execution_count": null,
   "metadata": {},
   "outputs": [],
   "source": [
    "# average prediction\n",
    "metric(np.mean(X_test_no_date.to_numpy(), axis=1), y_test.to_numpy())"
   ]
  }
 ],
 "metadata": {
  "kernelspec": {
   "display_name": "Python 3",
   "language": "python",
   "name": "python3"
  },
  "language_info": {
   "codemirror_mode": {
    "name": "ipython",
    "version": 3
   },
   "file_extension": ".py",
   "mimetype": "text/x-python",
   "name": "python",
   "nbconvert_exporter": "python",
   "pygments_lexer": "ipython3",
   "version": "3.6.10"
  }
 },
 "nbformat": 4,
 "nbformat_minor": 4
}
